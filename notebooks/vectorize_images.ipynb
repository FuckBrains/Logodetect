{
 "cells": [
  {
   "cell_type": "markdown",
   "metadata": {},
   "source": [
    "# Vectorize Images"
   ]
  },
  {
   "cell_type": "code",
   "execution_count": 1,
   "metadata": {},
   "outputs": [],
   "source": [
    "import os\n",
    "import glob\n",
    "import csv\n",
    "import pickle\n",
    "\n",
    "import numpy as np\n",
    "import pandas as pd\n",
    "from PIL import Image\n",
    "\n",
    "import torch\n",
    "from torchvision.models import resnet34\n",
    "from torchvision.transforms import functional as F"
   ]
  },
  {
   "cell_type": "markdown",
   "metadata": {},
   "source": [
    "#### Parameters"
   ]
  },
  {
   "cell_type": "code",
   "execution_count": 2,
   "metadata": {},
   "outputs": [],
   "source": [
    "name = 'all_crops'  # {all_crops, all_crops_128x128}\n",
    "path = os.path.join(os.environ['DATASETS'], 'logos', 'logos')\n",
    "logos_path = os.path.join(path, name)\n",
    "logos_filenames = sorted(glob.glob(logos_path + '/*.jpg'))"
   ]
  },
  {
   "cell_type": "markdown",
   "metadata": {},
   "source": [
    "#### Load and hook model"
   ]
  },
  {
   "cell_type": "code",
   "execution_count": 3,
   "metadata": {},
   "outputs": [],
   "source": [
    "def hook_activation(model, name):\n",
    "    model.avgpool.register_forward_hook(save_activation(name))\n",
    "\n",
    "def save_activation(name):\n",
    "    def hook(model, input, output):\n",
    "        activation[name] = output.detach()\n",
    "    return hook"
   ]
  },
  {
   "cell_type": "code",
   "execution_count": 4,
   "metadata": {},
   "outputs": [],
   "source": [
    "activation = {}\n",
    "model = resnet34(pretrained=True).to('cuda:3')\n",
    "\n",
    "hook_activation(model, 'avgpool')"
   ]
  },
  {
   "cell_type": "code",
   "execution_count": 5,
   "metadata": {},
   "outputs": [],
   "source": [
    "def img_to_tensor(img):\n",
    "    return F.to_tensor(img).unsqueeze(0).to('cuda:3', dtype=torch.float)\n",
    "\n",
    "def get_activation(model, name):\n",
    "    return activation[name].squeeze().detach().cpu().numpy()"
   ]
  },
  {
   "cell_type": "code",
   "execution_count": 6,
   "metadata": {},
   "outputs": [
    {
     "name": "stdout",
     "output_type": "stream",
     "text": [
      "(512,)\n"
     ]
    },
    {
     "data": {
      "text/plain": [
       "array([0.9466233, 0.8789756, 0.9460537], dtype=float32)"
      ]
     },
     "execution_count": 6,
     "metadata": {},
     "output_type": "execute_result"
    }
   ],
   "source": [
    "x = np.random.randint(0, 255, (640, 480, 3))\n",
    "model(img_to_tensor(x))\n",
    "activation = get_activation(model, 'avgpool')\n",
    "\n",
    "print(np.shape(activation.squeeze()))\n",
    "activation[:3]"
   ]
  },
  {
   "cell_type": "markdown",
   "metadata": {},
   "source": [
    "#### Vectorize images"
   ]
  },
  {
   "cell_type": "code",
   "execution_count": 7,
   "metadata": {},
   "outputs": [
    {
     "name": "stdout",
     "output_type": "stream",
     "text": [
      "\n"
     ]
    }
   ],
   "source": [
    "vectors = np.zeros((len(logos_filenames), 512))\n",
    "for idx, logo in enumerate(logos_filenames):\n",
    "    \n",
    "    # Load image:\n",
    "    img = Image.open(logo).convert('RGB').resize((128, 128))\n",
    "    img = F.to_tensor(img).unsqueeze(0).to('cuda:3', dtype=torch.float)\n",
    "    \n",
    "    # Vectorize image:\n",
    "    model(img_to_tensor(img))\n",
    "    vectors[idx, :] = get_activation(model, 'avgpool')"
   ]
  },
  {
   "cell_type": "code",
   "execution_count": 8,
   "metadata": {},
   "outputs": [],
   "source": [
    "def clean_name(name):\n",
    "    '''\n",
    "    >> ' '.join(sorted(set(''.join(list(set(brands))))))\n",
    "    >> \"& ' + - 1 2 3 4 ? a b c d e f g h i j kl m n\n",
    "        o p q r s t u v w x y z \\udcbc \\udcc3 \\udcfc\"\n",
    "    '''\n",
    "    filename = name.split('/')[-1]\n",
    "    brand = filename.split('_')[0]\n",
    "    return brand.encode('ascii', 'replace').decode()"
   ]
  },
  {
   "cell_type": "markdown",
   "metadata": {},
   "source": [
    "#### Save data"
   ]
  },
  {
   "cell_type": "code",
   "execution_count": 9,
   "metadata": {},
   "outputs": [
    {
     "name": "stdout",
     "output_type": "stream",
     "text": [
      "\n"
     ]
    }
   ],
   "source": [
    "vectors_list = [v for v in vectors]\n",
    "brands = [clean_name(p) for p in logos_filenames]\n",
    "logos_df = pd.DataFrame({'brand': brands, 'img_vec': vectors_list})\n",
    "\n",
    "logos_df.to_pickle(logos_path + '.zip')"
   ]
  },
  {
   "cell_type": "code",
   "execution_count": null,
   "metadata": {},
   "outputs": [],
   "source": []
  }
 ],
 "metadata": {
  "kernelspec": {
   "display_name": "Python 3",
   "language": "python",
   "name": "python3"
  },
  "language_info": {
   "codemirror_mode": {
    "name": "ipython",
    "version": 3
   },
   "file_extension": ".py",
   "mimetype": "text/x-python",
   "name": "python",
   "nbconvert_exporter": "python",
   "pygments_lexer": "ipython3",
   "version": "3.6.8"
  }
 },
 "nbformat": 4,
 "nbformat_minor": 2
}
