{
 "cells": [
  {
   "cell_type": "markdown",
   "metadata": {},
   "source": [
    "# Similarity Classification"
   ]
  },
  {
   "cell_type": "code",
   "execution_count": 1,
   "metadata": {},
   "outputs": [],
   "source": [
    "import os\n",
    "import glob\n",
    "import csv\n",
    "import pickle\n",
    "from collections import Counter\n",
    "\n",
    "import numpy as np\n",
    "import pandas as pd\n",
    "from PIL import Image\n",
    "import matplotlib.pyplot as plt\n",
    "from sklearn.neighbors import KNeighborsClassifier\n",
    "from sklearn.preprocessing import normalize\n",
    "\n",
    "import torch\n",
    "import torch.nn as nn\n",
    "import torchvision\n",
    "from torchvision.transforms import functional as F"
   ]
  },
  {
   "cell_type": "markdown",
   "metadata": {},
   "source": [
    "##### Crop Images"
   ]
  },
  {
   "cell_type": "raw",
   "metadata": {},
   "source": [
    "path_exem = os.path.join(os.environ['DATASETS'], 'logos', 'exemplars')\n",
    "path_imgs = os.path.join(os.environ['DATASETS'], 'logos', 'images')\n",
    "path_annot = os.path.join(os.environ['DATASETS'], 'logos', 'annotations')\n",
    "path_crop = os.path.join(os.environ['DATASETS'], 'logos', 'logos', 'all_crops')\n",
    "path_crop_resized = os.path.join(os.environ['DATASETS'], 'logos', 'logos', 'all_crops_128x128')\n",
    "\n",
    "\n",
    "annot_files = sorted(glob.glob(path_annot + '/*'))\n",
    "\n",
    "# annot_files = ['/home/datasets/logos/annotations/img_000029648.txt',\n",
    "#                '/home/datasets/logos/annotations/img_000029961.txt',\n",
    "#                '/home/datasets/logos/annotations/img_000030022.txt',\n",
    "#                '/home/datasets/logos/annotations/img_000031560.txt',\n",
    "#                '/home/datasets/logos/annotations/img_000034616.txt']\n",
    "\n",
    "for annot_name in annot_files:\n",
    "    image_name = annot_name.split('/')[-1].replace('.txt', '.jpg')\n",
    "    load_name = os.path.join(path_imgs, image_name)\n",
    "    image = Image.open(load_name).convert('RGB')\n",
    "    \n",
    "    cnt = 1\n",
    "    csv_reader = csv.reader(open(annot_name, 'r', encoding='utf-8'), delimiter=' ')\n",
    "    for row in csv_reader:\n",
    "        # (Left, Top, Right, Bottom, Class)\n",
    "        x1, y1, x2, y2, brand = row\n",
    "        crop = image.crop([int(x1), int(y1), int(x2), int(y2)])\n",
    "        crop_resized = crop.resize((128, 128))\n",
    "\n",
    "        brand = brand.encode('ascii', 'replace').decode()\n",
    "        crop_file = image_name.replace('img_', '{}_{:03}_img_'.format(brand, cnt))\n",
    "        crop_name = os.path.join(path_crop, crop_file)\n",
    "        crop_resized_name = os.path.join(path_crop_resized, crop_file)\n",
    "\n",
    "        crop.save(crop_name, 'JPEG')\n",
    "        crop_resized.save(crop_resized_name, 'JPEG')\n",
    "        cnt += 1"
   ]
  },
  {
   "cell_type": "markdown",
   "metadata": {},
   "source": [
    "##### Detect brands with non-ascii characters"
   ]
  },
  {
   "cell_type": "raw",
   "metadata": {},
   "source": [
    "annot_files = sorted(glob.glob(path_annot + '/*'))\n",
    "for annot_name in annot_files:\n",
    "    cnt = 0\n",
    "    try:\n",
    "        csv_reader = csv.reader(open(annot_name, 'r'), delimiter=' ')\n",
    "        for row in csv_reader:\n",
    "            cnt += 1\n",
    "    except:\n",
    "        print(annot_name)\n",
    "\n",
    "# /home/datasets/logos/annotations/img_000029648.txt\n",
    "# /home/datasets/logos/annotations/img_000029961.txt\n",
    "# /home/datasets/logos/annotations/img_000030022.txt\n",
    "# /home/datasets/logos/annotations/img_000031560.txt\n",
    "# /home/datasets/logos/annotations/img_000034616.txt"
   ]
  },
  {
   "cell_type": "markdown",
   "metadata": {},
   "source": [
    "##### Load model"
   ]
  },
  {
   "cell_type": "raw",
   "metadata": {},
   "source": [
    "def img_to_tensor(img):\n",
    "    return F.to_tensor(img).unsqueeze(0).to('cuda:3', dtype=torch.float)\n",
    "\n",
    "def save_activation(name):\n",
    "    def hook(model, input, output):\n",
    "        activation[name] = output.detach()\n",
    "    return hook\n",
    "\n",
    "def hook_activation(model, name):\n",
    "    model.avgpool.register_forward_hook(save_activation(name))\n",
    "\n",
    "def get_activation(model, name):\n",
    "    return activation[name].squeeze().detach().cpu().numpy()\n",
    "    \n",
    "\n",
    "activation = {}\n",
    "model = torchvision.models.resnet34(pretrained=True).to('cuda:3')\n",
    "hook_activation(model, 'avgpool')\n",
    "\n",
    "x = np.random.randint(0, 255, (640, 480, 3))\n",
    "model(img_to_tensor(x))\n",
    "activation = get_activation(model, 'avgpool')\n",
    "\n",
    "print(np.shape(act.squeeze()))\n",
    "activation[:3]"
   ]
  },
  {
   "cell_type": "markdown",
   "metadata": {},
   "source": [
    "##### Vectorize images"
   ]
  },
  {
   "cell_type": "raw",
   "metadata": {},
   "source": [
    "# Parameters:\n",
    "name = 'all_crops'  # {all_crops, all_crops_128x128}\n",
    "path = os.path.join(os.environ['DATASETS'], 'logos', 'logos', name)\n",
    "save_name = '/home/datasets/logos/logos/{}'.format(name)\n",
    "logos_path = sorted(glob.glob(path + '/*'))\n",
    "\n",
    "# Vectorize images:\n",
    "vectors = np.zeros((len(logos_path), 512))\n",
    "for idx, logo in enumerate(logos_path):\n",
    "    img = Image.open(logo).convert('RGB').resize((128, 128))\n",
    "    img = F.to_tensor(img).unsqueeze(0).to('cuda:3', dtype=torch.float)\n",
    "    model(img)\n",
    "    vectors[idx, :] = activation['avgpool'].squeeze().detach().cpu().numpy()\n",
    "\n",
    "# Store data frames:\n",
    "def clean_name(name):\n",
    "    '''\n",
    "    >> ' '.join(sorted(set(''.join(list(set(brands))))))\n",
    "    >> \"& ' + - 1 2 3 4 ? a b c d e f g h i j kl m n\n",
    "        o p q r s t u v w x y z \\udcbc \\udcc3 \\udcfc\"\n",
    "    '''\n",
    "    filename = name.split('/')[-1]\n",
    "    brand = filename.split('_')[0]\n",
    "    return brand.encode('ascii', 'replace').decode()\n",
    "    \n",
    "vectors_list = [v for v in vectors]\n",
    "brands = [clean_name(p) for p in logos_path]\n",
    "logos_df = pd.DataFrame({'brand': brands, 'img_vec': vectors_list})\n",
    "\n",
    "logos_df.to_pickle(save_name + '.zip')\n",
    "logos_df.to_csv(save_name + '.csv')"
   ]
  },
  {
   "cell_type": "markdown",
   "metadata": {},
   "source": [
    "### Analyze latent space"
   ]
  },
  {
   "cell_type": "code",
   "execution_count": 2,
   "metadata": {},
   "outputs": [
    {
     "data": {
      "text/html": [
       "<div>\n",
       "<style scoped>\n",
       "    .dataframe tbody tr th:only-of-type {\n",
       "        vertical-align: middle;\n",
       "    }\n",
       "\n",
       "    .dataframe tbody tr th {\n",
       "        vertical-align: top;\n",
       "    }\n",
       "\n",
       "    .dataframe thead th {\n",
       "        text-align: right;\n",
       "    }\n",
       "</style>\n",
       "<table border=\"1\" class=\"dataframe\">\n",
       "  <thead>\n",
       "    <tr style=\"text-align: right;\">\n",
       "      <th></th>\n",
       "      <th>brand</th>\n",
       "      <th>img_vec</th>\n",
       "    </tr>\n",
       "  </thead>\n",
       "  <tbody>\n",
       "    <tr>\n",
       "      <th>0</th>\n",
       "      <td>1fck?ln</td>\n",
       "      <td>[0.8744431138038635, 0.8719696998596191, 1.115...</td>\n",
       "    </tr>\n",
       "    <tr>\n",
       "      <th>1</th>\n",
       "      <td>24fitness</td>\n",
       "      <td>[0.8141988515853882, 0.8745986223220825, 0.998...</td>\n",
       "    </tr>\n",
       "    <tr>\n",
       "      <th>2</th>\n",
       "      <td>3m</td>\n",
       "      <td>[0.9014615416526794, 0.9498094916343689, 1.013...</td>\n",
       "    </tr>\n",
       "    <tr>\n",
       "      <th>3</th>\n",
       "      <td>3m</td>\n",
       "      <td>[0.8424268960952759, 0.8969314098358154, 1.006...</td>\n",
       "    </tr>\n",
       "    <tr>\n",
       "      <th>4</th>\n",
       "      <td>3m</td>\n",
       "      <td>[0.9028753638267517, 0.9141451120376587, 1.117...</td>\n",
       "    </tr>\n",
       "  </tbody>\n",
       "</table>\n",
       "</div>"
      ],
      "text/plain": [
       "       brand                                            img_vec\n",
       "0    1fck?ln  [0.8744431138038635, 0.8719696998596191, 1.115...\n",
       "1  24fitness  [0.8141988515853882, 0.8745986223220825, 0.998...\n",
       "2         3m  [0.9014615416526794, 0.9498094916343689, 1.013...\n",
       "3         3m  [0.8424268960952759, 0.8969314098358154, 1.006...\n",
       "4         3m  [0.9028753638267517, 0.9141451120376587, 1.117..."
      ]
     },
     "execution_count": 2,
     "metadata": {},
     "output_type": "execute_result"
    }
   ],
   "source": [
    "path = os.path.join(os.environ['DATASETS'], 'logos')\n",
    "logos_name = os.path.join(path, 'logos', 'all_crops.zip')\n",
    "logos_128_name = os.path.join(path, 'logos', 'all_crops_128x128.zip')\n",
    "exemplars_name = os.path.join(path, 'exemplars', 'exemplars.zip')\n",
    "\n",
    "logos_df = pd.read_pickle(logos_name)\n",
    "logos_128_df = pd.read_pickle(logos_128_name)\n",
    "exemplars_df = pd.read_pickle(exemplars_name)\n",
    "\n",
    "logos_df.head()"
   ]
  },
  {
   "cell_type": "code",
   "execution_count": 3,
   "metadata": {},
   "outputs": [
    {
     "data": {
      "image/png": "[encoded data removed]",
      "text/plain": [
       "<Figure size 1080x720 with 1 Axes>"
      ]
     },
     "metadata": {
      "needs_background": "light"
     },
     "output_type": "display_data"
    }
   ],
   "source": [
    "logos_brands = Counter(logos_df['brand'])\n",
    "logos_list = [b for b, c in logos_brands.items() if c >= 50]\n",
    "brands_mask = logos_df['brand'].isin(logos_list)\n",
    "too_many = logos_df['brand'] == 'heineken'\n",
    "\n",
    "logos_small_df = logos_df[brands_mask & ~too_many]\n",
    "logos_128_small_df = logos_128_df[brands_mask & ~too_many]\n",
    "\n",
    "logos_small = Counter(logos_small_df['brand'])\n",
    "detections_set = set(logos_small_df['brand'])\n",
    "\n",
    "x, y = zip(*logos_small.most_common())\n",
    "ticks = [v for i, v in enumerate(x) if i % 3 == 0]\n",
    "labels = [v for i, v in enumerate(logos_small.keys()) if i % 3 == 0]\n",
    "\n",
    "plt.figure(figsize=(15, 10))\n",
    "plt.bar(x, y)\n",
    "plt.xticks(ticks, labels, rotation='vertical');"
   ]
  },
  {
   "cell_type": "code",
   "execution_count": 4,
   "metadata": {},
   "outputs": [],
   "source": [
    "def get_distances(exemplars, detections, logos, reference, metric, p=None):\n",
    "    brands_list = []\n",
    "    mean_list = []\n",
    "    min_list = []\n",
    "    max_list = []\n",
    "    std_list = []\n",
    "    var_list = []\n",
    "\n",
    "    for idx, row in exemplars.iterrows():\n",
    "\n",
    "        exemplar_brand = row['brand']\n",
    "        exemplar_vec = row['img_vec']\n",
    "        if exemplar_brand in detections:\n",
    "\n",
    "            if reference.lower() == 'tp':\n",
    "                brand_mask = logos['brand'] == exemplar_brand\n",
    "            elif reference.lower() == 'fp':\n",
    "                brand_mask = logos['brand'] != exemplar_brand\n",
    "            brand_detections = list(logos['img_vec'][brand_mask])\n",
    "\n",
    "            neigh = KNeighborsClassifier(n_neighbors=1, metric=metric, p=p)\n",
    "            neigh.fit([exemplar_vec], [1])\n",
    "            dists, classes = neigh.kneighbors(brand_detections)\n",
    "\n",
    "            brands_list.append(exemplar_brand)\n",
    "            mean_list.append(np.mean(dists))\n",
    "            min_list.append(np.min(dists))\n",
    "            max_list.append(np.max(dists))\n",
    "            std_list.append(np.std(dists))\n",
    "            var_list.append(np.var(dists))\n",
    "\n",
    "    dists_mat = pd.DataFrame({\n",
    "        'brand': brands_list,\n",
    "        'mean': mean_list,\n",
    "        'min': min_list,\n",
    "        'max': max_list,\n",
    "        'std': std_list,\n",
    "        'var': var_list\n",
    "        })\n",
    "\n",
    "    return dists_mat"
   ]
  },
  {
   "cell_type": "code",
   "execution_count": 5,
   "metadata": {},
   "outputs": [],
   "source": [
    "def plot_distances(mat_1, mat_2, mat_3, reference):\n",
    "    fig, axs = plt.subplots(1, 3, figsize=(20, 4), sharey=True)\n",
    "    fig.suptitle('Distances: Exemplar to {}'.format(reference))\n",
    "\n",
    "    data = np.array(mat_1['mean']).reshape(-1, 1)\n",
    "    norm = normalize(data, axis=0, norm='l2')\n",
    "    axs[0].boxplot(norm);\n",
    "    axs[0].set_title('Minkowski: 1');\n",
    "\n",
    "    data = np.array(mat_2['mean']).reshape(-1, 1)\n",
    "    norm = normalize(data, axis=0, norm='l2')\n",
    "    axs[1].boxplot(norm);\n",
    "    axs[1].set_title('Minkowski: 2');\n",
    "\n",
    "    data = np.array(mat_3['mean']).reshape(-1, 1)\n",
    "    norm = normalize(data, axis=0, norm='l2')\n",
    "    axs[2].boxplot(norm);\n",
    "    axs[2].set_title('Cosine');"
   ]
  },
  {
   "cell_type": "markdown",
   "metadata": {},
   "source": [
    "## Crops of varying size"
   ]
  },
  {
   "cell_type": "markdown",
   "metadata": {},
   "source": [
    "### Average distance: Exemplar to TPs"
   ]
  },
  {
   "cell_type": "markdown",
   "metadata": {},
   "source": [
    "##### Minkowski: 1"
   ]
  },
  {
   "cell_type": "code",
   "execution_count": 6,
   "metadata": {
    "scrolled": false
   },
   "outputs": [
    {
     "data": {
      "text/html": [
       "<div>\n",
       "<style scoped>\n",
       "    .dataframe tbody tr th:only-of-type {\n",
       "        vertical-align: middle;\n",
       "    }\n",
       "\n",
       "    .dataframe tbody tr th {\n",
       "        vertical-align: top;\n",
       "    }\n",
       "\n",
       "    .dataframe thead th {\n",
       "        text-align: right;\n",
       "    }\n",
       "</style>\n",
       "<table border=\"1\" class=\"dataframe\">\n",
       "  <thead>\n",
       "    <tr style=\"text-align: right;\">\n",
       "      <th></th>\n",
       "      <th>mean</th>\n",
       "      <th>min</th>\n",
       "      <th>max</th>\n",
       "      <th>std</th>\n",
       "      <th>var</th>\n",
       "    </tr>\n",
       "  </thead>\n",
       "  <tbody>\n",
       "    <tr>\n",
       "      <th>count</th>\n",
       "      <td>225.000000</td>\n",
       "      <td>225.000000</td>\n",
       "      <td>225.000000</td>\n",
       "      <td>225.000000</td>\n",
       "      <td>225.000000</td>\n",
       "    </tr>\n",
       "    <tr>\n",
       "      <th>mean</th>\n",
       "      <td>57.290330</td>\n",
       "      <td>48.719692</td>\n",
       "      <td>63.466642</td>\n",
       "      <td>2.477221</td>\n",
       "      <td>6.634342</td>\n",
       "    </tr>\n",
       "    <tr>\n",
       "      <th>std</th>\n",
       "      <td>1.657303</td>\n",
       "      <td>4.686671</td>\n",
       "      <td>1.577730</td>\n",
       "      <td>0.707063</td>\n",
       "      <td>4.949150</td>\n",
       "    </tr>\n",
       "    <tr>\n",
       "      <th>min</th>\n",
       "      <td>51.705260</td>\n",
       "      <td>29.935183</td>\n",
       "      <td>59.144352</td>\n",
       "      <td>1.606710</td>\n",
       "      <td>2.581517</td>\n",
       "    </tr>\n",
       "    <tr>\n",
       "      <th>25%</th>\n",
       "      <td>56.373766</td>\n",
       "      <td>45.637823</td>\n",
       "      <td>62.450686</td>\n",
       "      <td>2.030601</td>\n",
       "      <td>4.123340</td>\n",
       "    </tr>\n",
       "    <tr>\n",
       "      <th>50%</th>\n",
       "      <td>57.321213</td>\n",
       "      <td>50.261644</td>\n",
       "      <td>63.490425</td>\n",
       "      <td>2.308395</td>\n",
       "      <td>5.328687</td>\n",
       "    </tr>\n",
       "    <tr>\n",
       "      <th>75%</th>\n",
       "      <td>58.315143</td>\n",
       "      <td>52.068167</td>\n",
       "      <td>64.478299</td>\n",
       "      <td>2.786064</td>\n",
       "      <td>7.762154</td>\n",
       "    </tr>\n",
       "    <tr>\n",
       "      <th>max</th>\n",
       "      <td>61.677231</td>\n",
       "      <td>56.848371</td>\n",
       "      <td>67.946558</td>\n",
       "      <td>7.414708</td>\n",
       "      <td>54.977897</td>\n",
       "    </tr>\n",
       "  </tbody>\n",
       "</table>\n",
       "</div>"
      ],
      "text/plain": [
       "             mean         min         max         std         var\n",
       "count  225.000000  225.000000  225.000000  225.000000  225.000000\n",
       "mean    57.290330   48.719692   63.466642    2.477221    6.634342\n",
       "std      1.657303    4.686671    1.577730    0.707063    4.949150\n",
       "min     51.705260   29.935183   59.144352    1.606710    2.581517\n",
       "25%     56.373766   45.637823   62.450686    2.030601    4.123340\n",
       "50%     57.321213   50.261644   63.490425    2.308395    5.328687\n",
       "75%     58.315143   52.068167   64.478299    2.786064    7.762154\n",
       "max     61.677231   56.848371   67.946558    7.414708   54.977897"
      ]
     },
     "execution_count": 6,
     "metadata": {},
     "output_type": "execute_result"
    }
   ],
   "source": [
    "dists_mat_1 = get_distances(exemplars_df, detections_set, logos_small_df, 'TP', metric='minkowski', p=1)\n",
    "dists_mat_1.describe()"
   ]
  },
  {
   "cell_type": "markdown",
   "metadata": {},
   "source": [
    "##### Minkowski: 2"
   ]
  },
  {
   "cell_type": "code",
   "execution_count": 7,
   "metadata": {},
   "outputs": [],
   "source": [
    "dists_mat_2 = get_distances(exemplars_df, detections_set, logos_small_df, 'TP', metric='minkowski', p=2)"
   ]
  },
  {
   "cell_type": "markdown",
   "metadata": {},
   "source": [
    "#### Cosine"
   ]
  },
  {
   "cell_type": "code",
   "execution_count": 8,
   "metadata": {},
   "outputs": [],
   "source": [
    "dists_mat_3 = get_distances(exemplars_df, detections_set, logos_small_df, 'TP', metric='cosine')"
   ]
  },
  {
   "cell_type": "markdown",
   "metadata": {},
   "source": [
    "### Average distance: Exemplar to FPs"
   ]
  },
  {
   "cell_type": "markdown",
   "metadata": {},
   "source": [
    "##### Minkowski: 1"
   ]
  },
  {
   "cell_type": "code",
   "execution_count": 9,
   "metadata": {
    "scrolled": false
   },
   "outputs": [],
   "source": [
    "dists_mat_4 = get_distances(exemplars_df, detections_set, logos_small_df, 'FP', metric='minkowski', p=1)"
   ]
  },
  {
   "cell_type": "markdown",
   "metadata": {},
   "source": [
    "##### Minkowski: 2"
   ]
  },
  {
   "cell_type": "code",
   "execution_count": 10,
   "metadata": {
    "scrolled": false
   },
   "outputs": [],
   "source": [
    "dists_mat_5 = get_distances(exemplars_df, detections_set, logos_small_df, 'FP', metric='minkowski', p=2)"
   ]
  },
  {
   "cell_type": "markdown",
   "metadata": {},
   "source": [
    "##### Cosine"
   ]
  },
  {
   "cell_type": "code",
   "execution_count": 11,
   "metadata": {},
   "outputs": [],
   "source": [
    "dists_mat_6 = get_distances(exemplars_df, detections_set, logos_small_df, 'FP', metric='cosine')"
   ]
  },
  {
   "cell_type": "markdown",
   "metadata": {},
   "source": [
    "### Results"
   ]
  },
  {
   "cell_type": "code",
   "execution_count": 12,
   "metadata": {
    "scrolled": true
   },
   "outputs": [
    {
     "data": {
      "image/png": "[encoded data removed]",
      "text/plain": [
       "<Figure size 1440x288 with 3 Axes>"
      ]
     },
     "metadata": {
      "needs_background": "light"
     },
     "output_type": "display_data"
    }
   ],
   "source": [
    "plot_distances(dists_mat_1, dists_mat_2, dists_mat_3, 'TPs')"
   ]
  },
  {
   "cell_type": "code",
   "execution_count": 13,
   "metadata": {},
   "outputs": [
    {
     "data": {
      "image/png": "[encoded data removed]",
      "text/plain": [
       "<Figure size 1440x288 with 3 Axes>"
      ]
     },
     "metadata": {
      "needs_background": "light"
     },
     "output_type": "display_data"
    }
   ],
   "source": [
    "plot_distances(dists_mat_4, dists_mat_5, dists_mat_6, 'FPs')"
   ]
  },
  {
   "cell_type": "markdown",
   "metadata": {},
   "source": [
    "## Crops of size 128x128"
   ]
  },
  {
   "cell_type": "markdown",
   "metadata": {},
   "source": [
    "### Average distance: Exemplar to TPs"
   ]
  },
  {
   "cell_type": "markdown",
   "metadata": {},
   "source": [
    "##### Minkowski: 1"
   ]
  },
  {
   "cell_type": "code",
   "execution_count": 14,
   "metadata": {
    "scrolled": false
   },
   "outputs": [
    {
     "data": {
      "text/html": [
       "<div>\n",
       "<style scoped>\n",
       "    .dataframe tbody tr th:only-of-type {\n",
       "        vertical-align: middle;\n",
       "    }\n",
       "\n",
       "    .dataframe tbody tr th {\n",
       "        vertical-align: top;\n",
       "    }\n",
       "\n",
       "    .dataframe thead th {\n",
       "        text-align: right;\n",
       "    }\n",
       "</style>\n",
       "<table border=\"1\" class=\"dataframe\">\n",
       "  <thead>\n",
       "    <tr style=\"text-align: right;\">\n",
       "      <th></th>\n",
       "      <th>mean</th>\n",
       "      <th>min</th>\n",
       "      <th>max</th>\n",
       "      <th>std</th>\n",
       "      <th>var</th>\n",
       "    </tr>\n",
       "  </thead>\n",
       "  <tbody>\n",
       "    <tr>\n",
       "      <th>count</th>\n",
       "      <td>225.000000</td>\n",
       "      <td>225.000000</td>\n",
       "      <td>225.000000</td>\n",
       "      <td>225.000000</td>\n",
       "      <td>225.000000</td>\n",
       "    </tr>\n",
       "    <tr>\n",
       "      <th>mean</th>\n",
       "      <td>57.257216</td>\n",
       "      <td>48.904228</td>\n",
       "      <td>63.527660</td>\n",
       "      <td>2.478551</td>\n",
       "      <td>6.674561</td>\n",
       "    </tr>\n",
       "    <tr>\n",
       "      <th>std</th>\n",
       "      <td>1.662478</td>\n",
       "      <td>4.465059</td>\n",
       "      <td>1.674422</td>\n",
       "      <td>0.730561</td>\n",
       "      <td>5.144963</td>\n",
       "    </tr>\n",
       "    <tr>\n",
       "      <th>min</th>\n",
       "      <td>51.563222</td>\n",
       "      <td>29.950627</td>\n",
       "      <td>59.213412</td>\n",
       "      <td>1.595445</td>\n",
       "      <td>2.545443</td>\n",
       "    </tr>\n",
       "    <tr>\n",
       "      <th>25%</th>\n",
       "      <td>56.338789</td>\n",
       "      <td>46.066947</td>\n",
       "      <td>62.267266</td>\n",
       "      <td>1.982202</td>\n",
       "      <td>3.929123</td>\n",
       "    </tr>\n",
       "    <tr>\n",
       "      <th>50%</th>\n",
       "      <td>57.253472</td>\n",
       "      <td>50.379270</td>\n",
       "      <td>63.478364</td>\n",
       "      <td>2.297612</td>\n",
       "      <td>5.279022</td>\n",
       "    </tr>\n",
       "    <tr>\n",
       "      <th>75%</th>\n",
       "      <td>58.290514</td>\n",
       "      <td>52.225927</td>\n",
       "      <td>64.656484</td>\n",
       "      <td>2.772702</td>\n",
       "      <td>7.687875</td>\n",
       "    </tr>\n",
       "    <tr>\n",
       "      <th>max</th>\n",
       "      <td>61.435692</td>\n",
       "      <td>56.130308</td>\n",
       "      <td>68.392787</td>\n",
       "      <td>7.513262</td>\n",
       "      <td>56.449103</td>\n",
       "    </tr>\n",
       "  </tbody>\n",
       "</table>\n",
       "</div>"
      ],
      "text/plain": [
       "             mean         min         max         std         var\n",
       "count  225.000000  225.000000  225.000000  225.000000  225.000000\n",
       "mean    57.257216   48.904228   63.527660    2.478551    6.674561\n",
       "std      1.662478    4.465059    1.674422    0.730561    5.144963\n",
       "min     51.563222   29.950627   59.213412    1.595445    2.545443\n",
       "25%     56.338789   46.066947   62.267266    1.982202    3.929123\n",
       "50%     57.253472   50.379270   63.478364    2.297612    5.279022\n",
       "75%     58.290514   52.225927   64.656484    2.772702    7.687875\n",
       "max     61.435692   56.130308   68.392787    7.513262   56.449103"
      ]
     },
     "execution_count": 14,
     "metadata": {},
     "output_type": "execute_result"
    }
   ],
   "source": [
    "dists_mat_7 = get_distances(exemplars_df, detections_set, logos_128_small_df, 'TP', metric='minkowski', p=1)\n",
    "dists_mat_7.describe()"
   ]
  },
  {
   "cell_type": "markdown",
   "metadata": {},
   "source": [
    "##### Minkowski: 2"
   ]
  },
  {
   "cell_type": "code",
   "execution_count": 15,
   "metadata": {},
   "outputs": [],
   "source": [
    "dists_mat_8 = get_distances(exemplars_df, detections_set, logos_128_small_df, 'TP', metric='minkowski', p=2)"
   ]
  },
  {
   "cell_type": "markdown",
   "metadata": {},
   "source": [
    "#### Cosine"
   ]
  },
  {
   "cell_type": "code",
   "execution_count": 16,
   "metadata": {},
   "outputs": [],
   "source": [
    "dists_mat_9 = get_distances(exemplars_df, detections_set, logos_128_small_df, 'TP', metric='cosine')"
   ]
  },
  {
   "cell_type": "markdown",
   "metadata": {},
   "source": [
    "### Average distance: Exemplar to FPs"
   ]
  },
  {
   "cell_type": "markdown",
   "metadata": {},
   "source": [
    "##### Minkowski: 1"
   ]
  },
  {
   "cell_type": "code",
   "execution_count": 17,
   "metadata": {
    "scrolled": false
   },
   "outputs": [],
   "source": [
    "dists_mat_10 = get_distances(exemplars_df, detections_set, logos_128_small_df, 'FP', metric='minkowski', p=1)"
   ]
  },
  {
   "cell_type": "markdown",
   "metadata": {},
   "source": [
    "##### Minkowski: 2"
   ]
  },
  {
   "cell_type": "code",
   "execution_count": 18,
   "metadata": {
    "scrolled": false
   },
   "outputs": [],
   "source": [
    "dists_mat_11 = get_distances(exemplars_df, detections_set, logos_128_small_df, 'FP', metric='minkowski', p=2)"
   ]
  },
  {
   "cell_type": "markdown",
   "metadata": {},
   "source": [
    "##### Cosine"
   ]
  },
  {
   "cell_type": "code",
   "execution_count": 19,
   "metadata": {},
   "outputs": [],
   "source": [
    "dists_mat_12 = get_distances(exemplars_df, detections_set, logos_128_small_df, 'FP', metric='cosine')"
   ]
  },
  {
   "cell_type": "markdown",
   "metadata": {},
   "source": [
    "### Results"
   ]
  },
  {
   "cell_type": "code",
   "execution_count": 20,
   "metadata": {},
   "outputs": [
    {
     "data": {
      "image/png": "[encoded data removed]",
      "text/plain": [
       "<Figure size 1440x288 with 3 Axes>"
      ]
     },
     "metadata": {
      "needs_background": "light"
     },
     "output_type": "display_data"
    }
   ],
   "source": [
    "plot_distances(dists_mat_7, dists_mat_8, dists_mat_9, 'TPs')"
   ]
  },
  {
   "cell_type": "code",
   "execution_count": 21,
   "metadata": {},
   "outputs": [
    {
     "data": {
      "image/png": "[encoded data removed]",
      "text/plain": [
       "<Figure size 1440x288 with 3 Axes>"
      ]
     },
     "metadata": {
      "needs_background": "light"
     },
     "output_type": "display_data"
    }
   ],
   "source": [
    "plot_distances(dists_mat_10, dists_mat_11, dists_mat_12, 'FPs')"
   ]
  },
  {
   "cell_type": "code",
   "execution_count": null,
   "metadata": {},
   "outputs": [],
   "source": []
  }
 ],
 "metadata": {
  "kernelspec": {
   "display_name": "Python 3",
   "language": "python",
   "name": "python3"
  },
  "language_info": {
   "codemirror_mode": {
    "name": "ipython",
    "version": 3
   },
   "file_extension": ".py",
   "mimetype": "text/x-python",
   "name": "python",
   "nbconvert_exporter": "python",
   "pygments_lexer": "ipython3",
   "version": "3.6.8"
  }
 },
 "nbformat": 4,
 "nbformat_minor": 2
}
