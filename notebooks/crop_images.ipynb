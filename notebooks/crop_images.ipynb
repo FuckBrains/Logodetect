{
 "cells": [
  {
   "cell_type": "markdown",
   "metadata": {},
   "source": [
    "# Crop Images from Annotations"
   ]
  },
  {
   "cell_type": "code",
   "execution_count": 1,
   "metadata": {},
   "outputs": [],
   "source": [
    "import os\n",
    "import glob\n",
    "import csv\n",
    "\n",
    "from PIL import Image"
   ]
  },
  {
   "cell_type": "markdown",
   "metadata": {},
   "source": [
    "##### Crop Images"
   ]
  },
  {
   "cell_type": "code",
   "execution_count": 2,
   "metadata": {},
   "outputs": [],
   "source": [
    "path_imgs = os.path.join(os.environ['DATASETS'], 'logos', 'images')\n",
    "path_annot = os.path.join(os.environ['DATASETS'], 'logos', 'annotations')\n",
    "path_crop = os.path.join(os.environ['DATASETS'], 'logos', 'logos', 'all_crops')\n",
    "path_crop_resized = os.path.join(os.environ['DATASETS'], 'logos', 'logos', 'all_crops_128x128')\n",
    "annot_files = sorted(glob.glob(path_annot + '/*'))\n",
    "\n",
    "# annot_files = ['/home/datasets/logos/annotations/img_000029648.txt',\n",
    "#                '/home/datasets/logos/annotations/img_000029961.txt',\n",
    "#                '/home/datasets/logos/annotations/img_000030022.txt',\n",
    "#                '/home/datasets/logos/annotations/img_000031560.txt',\n",
    "#                '/home/datasets/logos/annotations/img_000034616.txt']"
   ]
  },
  {
   "cell_type": "code",
   "execution_count": 3,
   "metadata": {},
   "outputs": [
    {
     "name": "stdout",
     "output_type": "stream",
     "text": [
      "\n"
     ]
    }
   ],
   "source": [
    "for annot_name in annot_files:\n",
    "    image_name = annot_name.split('/')[-1].replace('.txt', '.jpg')\n",
    "    load_name = os.path.join(path_imgs, image_name)\n",
    "    image = Image.open(load_name).convert('RGB')\n",
    "    \n",
    "    cnt = 1\n",
    "    csv_reader = csv.reader(open(annot_name, 'r', encoding='utf-8'), delimiter=' ')\n",
    "    for row in csv_reader:\n",
    "        # (Left, Top, Right, Bottom, Class)\n",
    "        x1, y1, x2, y2, brand = row\n",
    "        crop = image.crop([int(x1), int(y1), int(x2), int(y2)])\n",
    "        crop_resized = crop.resize((128, 128))\n",
    "\n",
    "        brand = brand.encode('ascii', 'replace').decode()\n",
    "        crop_file = image_name.replace('img_', '{}_{:03}_img_'.format(brand, cnt))\n",
    "        crop_name = os.path.join(path_crop, crop_file)\n",
    "        crop_resized_name = os.path.join(path_crop_resized, crop_file)\n",
    "\n",
    "        crop.save(crop_name, 'JPEG')\n",
    "        crop_resized.save(crop_resized_name, 'JPEG')\n",
    "        cnt += 1"
   ]
  },
  {
   "cell_type": "markdown",
   "metadata": {},
   "source": [
    "##### Detect brands with non-ascii characters"
   ]
  },
  {
   "cell_type": "code",
   "execution_count": 4,
   "metadata": {},
   "outputs": [
    {
     "name": "stdout",
     "output_type": "stream",
     "text": [
      "/home/datasets/logos/annotations/img_000029648.txt\n",
      "/home/datasets/logos/annotations/img_000029961.txt\n",
      "/home/datasets/logos/annotations/img_000030022.txt\n",
      "/home/datasets/logos/annotations/img_000031560.txt\n",
      "/home/datasets/logos/annotations/img_000034616.txt\n"
     ]
    }
   ],
   "source": [
    "annot_files = sorted(glob.glob(path_annot + '/*'))\n",
    "for annot_name in annot_files:\n",
    "    cnt = 0\n",
    "    try:\n",
    "        csv_reader = csv.reader(open(annot_name, 'r'), delimiter=' ')\n",
    "        for row in csv_reader:\n",
    "            cnt += 1\n",
    "    except:\n",
    "        print(annot_name)"
   ]
  },
  {
   "cell_type": "code",
   "execution_count": null,
   "metadata": {},
   "outputs": [],
   "source": []
  }
 ],
 "metadata": {
  "kernelspec": {
   "display_name": "Python 3",
   "language": "python",
   "name": "python3"
  },
  "language_info": {
   "codemirror_mode": {
    "name": "ipython",
    "version": 3
   },
   "file_extension": ".py",
   "mimetype": "text/x-python",
   "name": "python",
   "nbconvert_exporter": "python",
   "pygments_lexer": "ipython3",
   "version": "3.6.8"
  }
 },
 "nbformat": 4,
 "nbformat_minor": 2
}
